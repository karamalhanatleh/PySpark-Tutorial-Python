{
 "cells": [
  {
   "cell_type": "markdown",
   "id": "2cd532af",
   "metadata": {},
   "source": [
    "# Spark DataFrame"
   ]
  },
  {
   "cell_type": "code",
   "execution_count": 101,
   "id": "a2ec121a",
   "metadata": {},
   "outputs": [],
   "source": [
    "#import paskages\n",
    "from pyspark.sql import SparkSession\n",
    "from pyspark.sql.functions import col,when"
   ]
  },
  {
   "cell_type": "code",
   "execution_count": 102,
   "id": "f794e0f2",
   "metadata": {},
   "outputs": [],
   "source": [
    "# initializes a Spark session\n",
    "spark= SparkSession.builder.appName(\"demo\").getOrCreate()"
   ]
  },
  {
   "cell_type": "code",
   "execution_count": 103,
   "id": "63347c01",
   "metadata": {},
   "outputs": [],
   "source": [
    "#Creating a DataFrame\n",
    "df=spark.createDataFrame([\n",
    "    (\"Karam\",23 ,450),\n",
    "    (\"khaled\",16 ,220),\n",
    "    (\"Omar\",31,520),\n",
    "    (\"Ahmad\",17,250),\n",
    "    (\"Ali\",22,410),\n",
    "    (\"Hasn\",10 , 0) ],\n",
    "    ['name','age','salary']\n",
    ")\n"
   ]
  },
  {
   "cell_type": "code",
   "execution_count": 104,
   "id": "b85c4190",
   "metadata": {},
   "outputs": [
    {
     "name": "stdout",
     "output_type": "stream",
     "text": [
      "+------+---+------+\n",
      "|  name|age|salary|\n",
      "+------+---+------+\n",
      "| Karam| 23|   450|\n",
      "|khaled| 16|   220|\n",
      "|  Omar| 31|   520|\n",
      "| Ahmad| 17|   250|\n",
      "|   Ali| 22|   410|\n",
      "|  Hasn| 10|     0|\n",
      "+------+---+------+\n",
      "\n"
     ]
    }
   ],
   "source": [
    "#show data\n",
    "df.show()"
   ]
  },
  {
   "cell_type": "code",
   "execution_count": 105,
   "id": "d18b0c8c",
   "metadata": {
    "scrolled": true
   },
   "outputs": [
    {
     "name": "stdout",
     "output_type": "stream",
     "text": [
      "root\n",
      " |-- name: string (nullable = true)\n",
      " |-- age: long (nullable = true)\n",
      " |-- salary: long (nullable = true)\n",
      "\n"
     ]
    }
   ],
   "source": [
    "#print Schema\n",
    "df.printSchema()"
   ]
  },
  {
   "cell_type": "code",
   "execution_count": null,
   "id": "71592727",
   "metadata": {},
   "outputs": [],
   "source": []
  },
  {
   "cell_type": "markdown",
   "id": "c5b131fd",
   "metadata": {},
   "source": [
    "###### Add a Column"
   ]
  },
  {
   "cell_type": "code",
   "execution_count": 106,
   "id": "befaca00",
   "metadata": {},
   "outputs": [],
   "source": [
    "#adds a new column '' based on conditions regarding the 'age' column.\n",
    "df_1= df.withColumn(\n",
    "        \"life_stage\",\n",
    "   when(col('age')<13 ,\"child\")\n",
    "    .when(col('age').between(13,18),\"teenager\"  )\n",
    "    .when(col('age').between(18,24) ,\"young\")\n",
    "    .otherwise('adult'),                 \n",
    "    )"
   ]
  },
  {
   "cell_type": "code",
   "execution_count": 107,
   "id": "eabc457e",
   "metadata": {},
   "outputs": [
    {
     "name": "stdout",
     "output_type": "stream",
     "text": [
      "+------+---+------+----------+\n",
      "|  name|age|salary|life_stage|\n",
      "+------+---+------+----------+\n",
      "| Karam| 23|   450|     young|\n",
      "|khaled| 16|   220|  teenager|\n",
      "|  Omar| 31|   520|     adult|\n",
      "| Ahmad| 17|   250|  teenager|\n",
      "|   Ali| 22|   410|     young|\n",
      "|  Hasn| 10|     0|     child|\n",
      "+------+---+------+----------+\n",
      "\n"
     ]
    }
   ],
   "source": [
    "df_1.show()"
   ]
  },
  {
   "cell_type": "code",
   "execution_count": null,
   "id": "ac413217",
   "metadata": {},
   "outputs": [],
   "source": []
  },
  {
   "cell_type": "code",
   "execution_count": 108,
   "id": "c18d447d",
   "metadata": {},
   "outputs": [
    {
     "name": "stdout",
     "output_type": "stream",
     "text": [
      "+------+---+------+----------+------------------+\n",
      "|  name|age|salary|life_stage|salary_bonus_0.20%|\n",
      "+------+---+------+----------+------------------+\n",
      "| Karam| 23|   450|     young|             540.0|\n",
      "|khaled| 16|   220|  teenager|             264.0|\n",
      "|  Omar| 31|   520|     adult|             624.0|\n",
      "| Ahmad| 17|   250|  teenager|             300.0|\n",
      "|   Ali| 22|   410|     young|             492.0|\n",
      "|  Hasn| 10|     0|     child|               0.0|\n",
      "+------+---+------+----------+------------------+\n",
      "\n"
     ]
    }
   ],
   "source": [
    "#display salary aftrer add bonus 0.20%\n",
    "df_1.withColumn(\"salary_bonus_0.20%\",df_1['salary']*1.20).show()"
   ]
  },
  {
   "cell_type": "code",
   "execution_count": null,
   "id": "7385c42c",
   "metadata": {},
   "outputs": [],
   "source": []
  },
  {
   "cell_type": "markdown",
   "id": "56a70219",
   "metadata": {},
   "source": [
    "###### Filtering"
   ]
  },
  {
   "cell_type": "code",
   "execution_count": 109,
   "id": "f9b8a59a",
   "metadata": {},
   "outputs": [
    {
     "name": "stdout",
     "output_type": "stream",
     "text": [
      "+-----+---+------+----------+\n",
      "| name|age|salary|life_stage|\n",
      "+-----+---+------+----------+\n",
      "|Karam| 23|   450|     young|\n",
      "| Omar| 31|   520|     adult|\n",
      "|  Ali| 22|   410|     young|\n",
      "+-----+---+------+----------+\n",
      "\n"
     ]
    }
   ],
   "source": [
    "# filter # display data is age greater than 20 # 1\n",
    "df_1.where(col(\"age\")>20).show()"
   ]
  },
  {
   "cell_type": "code",
   "execution_count": 110,
   "id": "dd39fe21",
   "metadata": {
    "scrolled": true
   },
   "outputs": [
    {
     "name": "stdout",
     "output_type": "stream",
     "text": [
      "+-----+---+------+----------+\n",
      "| name|age|salary|life_stage|\n",
      "+-----+---+------+----------+\n",
      "|Karam| 23|   450|     young|\n",
      "| Omar| 31|   520|     adult|\n",
      "|  Ali| 22|   410|     young|\n",
      "+-----+---+------+----------+\n",
      "\n"
     ]
    }
   ],
   "source": [
    "## filter # display data is age greater than 20 # 2 \n",
    "df_1.filter(\"age>20\").show()"
   ]
  },
  {
   "cell_type": "code",
   "execution_count": 111,
   "id": "368c8e15",
   "metadata": {},
   "outputs": [
    {
     "name": "stdout",
     "output_type": "stream",
     "text": [
      "+------+---+------+----------+\n",
      "|  name|age|salary|life_stage|\n",
      "+------+---+------+----------+\n",
      "|khaled| 16|   220|  teenager|\n",
      "| Ahmad| 17|   250|  teenager|\n",
      "|  Hasn| 10|     0|     child|\n",
      "+------+---+------+----------+\n",
      "\n"
     ]
    }
   ],
   "source": [
    "#filter salary  less than  or equal to 350\n",
    "\n",
    "df_1.filter(\"salary<=350\").show()"
   ]
  },
  {
   "cell_type": "code",
   "execution_count": 112,
   "id": "1298a9de",
   "metadata": {},
   "outputs": [
    {
     "name": "stdout",
     "output_type": "stream",
     "text": [
      "+-----+---+------+----------+\n",
      "| name|age|salary|life_stage|\n",
      "+-----+---+------+----------+\n",
      "|Karam| 23|   450|     young|\n",
      "| Omar| 31|   520|     adult|\n",
      "|  Ali| 22|   410|     young|\n",
      "+-----+---+------+----------+\n",
      "\n"
     ]
    }
   ],
   "source": [
    "df_1.where(col(\"salary\").between(300,550)).show()"
   ]
  },
  {
   "cell_type": "code",
   "execution_count": 113,
   "id": "7f1c2976",
   "metadata": {},
   "outputs": [
    {
     "name": "stdout",
     "output_type": "stream",
     "text": [
      "+------+---+------+----------+\n",
      "|  name|age|salary|life_stage|\n",
      "+------+---+------+----------+\n",
      "|khaled| 16|   220|  teenager|\n",
      "|  Omar| 31|   520|     adult|\n",
      "| Ahmad| 17|   250|  teenager|\n",
      "+------+---+------+----------+\n",
      "\n"
     ]
    }
   ],
   "source": [
    "#filters DataFrame to include only rows where 'life_stage' is \"teenager\" or \"adult\"\n",
    "df_1.where(col('life_stage').isin(['teenager' ,'adult'])).show()"
   ]
  },
  {
   "cell_type": "code",
   "execution_count": 114,
   "id": "07e282ef",
   "metadata": {
    "scrolled": true
   },
   "outputs": [
    {
     "name": "stdout",
     "output_type": "stream",
     "text": [
      "+------+---+------+----------+\n",
      "|  name|age|salary|life_stage|\n",
      "+------+---+------+----------+\n",
      "|khaled| 16|   220|  teenager|\n",
      "| Ahmad| 17|   250|  teenager|\n",
      "+------+---+------+----------+\n",
      "\n"
     ]
    }
   ],
   "source": [
    "## Filter DataFrame to show rows where the 'name' column ends with \"d\"\n",
    "\n",
    "df_1.where(col(\"name\").endswith(\"d\")).show()"
   ]
  },
  {
   "cell_type": "code",
   "execution_count": null,
   "id": "873633a4",
   "metadata": {},
   "outputs": [],
   "source": []
  },
  {
   "cell_type": "markdown",
   "id": "20cc9ea3",
   "metadata": {},
   "source": [
    "###### Grouping and Aggregation:"
   ]
  },
  {
   "cell_type": "code",
   "execution_count": 115,
   "id": "7beca6fc",
   "metadata": {},
   "outputs": [
    {
     "name": "stdout",
     "output_type": "stream",
     "text": [
      "+----------+--------+-----------+\n",
      "|life_stage|avg(age)|avg(salary)|\n",
      "+----------+--------+-----------+\n",
      "|     young|    22.5|      430.0|\n",
      "|  teenager|    16.5|      235.0|\n",
      "|     adult|    31.0|      520.0|\n",
      "|     child|    10.0|        0.0|\n",
      "+----------+--------+-----------+\n",
      "\n"
     ]
    }
   ],
   "source": [
    "df_1.groupBy(\"life_stage\").mean().show()"
   ]
  },
  {
   "cell_type": "code",
   "execution_count": null,
   "id": "e4d730be",
   "metadata": {},
   "outputs": [],
   "source": []
  },
  {
   "cell_type": "markdown",
   "id": "c3ee5fab",
   "metadata": {},
   "source": [
    "###### SQL Queries"
   ]
  },
  {
   "cell_type": "code",
   "execution_count": 116,
   "id": "3010c9b1",
   "metadata": {},
   "outputs": [
    {
     "data": {
      "text/plain": [
       "['name', 'age', 'salary', 'life_stage']"
      ]
     },
     "execution_count": 116,
     "metadata": {},
     "output_type": "execute_result"
    }
   ],
   "source": [
    "#get name dataframe\n",
    "df_1.columns"
   ]
  },
  {
   "cell_type": "code",
   "execution_count": 117,
   "id": "ec439fbd",
   "metadata": {},
   "outputs": [
    {
     "name": "stdout",
     "output_type": "stream",
     "text": [
      "+-----------------+\n",
      "|      avg(salary)|\n",
      "+-----------------+\n",
      "|308.3333333333333|\n",
      "+-----------------+\n",
      "\n"
     ]
    }
   ],
   "source": [
    "spark.sql(\"select avg(salary) from {df1}\",df1=df_1).show()"
   ]
  },
  {
   "cell_type": "code",
   "execution_count": 118,
   "id": "ff8029c3",
   "metadata": {},
   "outputs": [
    {
     "name": "stdout",
     "output_type": "stream",
     "text": [
      "+---+------+\n",
      "|age|salary|\n",
      "+---+------+\n",
      "| 23|   450|\n",
      "| 16|   220|\n",
      "| 31|   520|\n",
      "| 17|   250|\n",
      "| 22|   410|\n",
      "| 10|     0|\n",
      "+---+------+\n",
      "\n"
     ]
    }
   ],
   "source": [
    "spark.sql(\"select age,salary from {df_1}\",df_1=df_1).show()"
   ]
  },
  {
   "cell_type": "code",
   "execution_count": 125,
   "id": "d09365f6",
   "metadata": {},
   "outputs": [
    {
     "name": "stdout",
     "output_type": "stream",
     "text": [
      "+---+-------------+\n",
      "|age|(salary + 10)|\n",
      "+---+-------------+\n",
      "| 23|          460|\n",
      "| 16|          230|\n",
      "| 31|          530|\n",
      "| 17|          260|\n",
      "| 22|          420|\n",
      "| 10|           10|\n",
      "+---+-------------+\n",
      "\n"
     ]
    }
   ],
   "source": [
    "spark.sql(\"select age,salary+10 from {df_1}\",df_1=df_1).show()"
   ]
  },
  {
   "cell_type": "code",
   "execution_count": null,
   "id": "b24654b2",
   "metadata": {},
   "outputs": [],
   "source": []
  },
  {
   "cell_type": "code",
   "execution_count": 152,
   "id": "c338a8a9",
   "metadata": {},
   "outputs": [],
   "source": [
    "#function executes an SQL query \n",
    "def query_sql(query):\n",
    "    if len(query)>10:\n",
    "        spark.sql(str(query),df_1=df_1).show()\n",
    "    else:\n",
    "        print(\"check query and again\")"
   ]
  },
  {
   "cell_type": "code",
   "execution_count": 153,
   "id": "0d63730b",
   "metadata": {
    "scrolled": true
   },
   "outputs": [
    {
     "name": "stdout",
     "output_type": "stream",
     "text": [
      "+------+---+------+----------+\n",
      "|  name|age|salary|life_stage|\n",
      "+------+---+------+----------+\n",
      "| Karam| 23|   450|     young|\n",
      "|khaled| 16|   220|  teenager|\n",
      "|  Omar| 31|   520|     adult|\n",
      "| Ahmad| 17|   250|  teenager|\n",
      "|   Ali| 22|   410|     young|\n",
      "|  Hasn| 10|     0|     child|\n",
      "+------+---+------+----------+\n",
      "\n"
     ]
    }
   ],
   "source": [
    "query_sql(\"select * from {df_1}\")"
   ]
  },
  {
   "cell_type": "code",
   "execution_count": 140,
   "id": "f632d8ff",
   "metadata": {},
   "outputs": [
    {
     "name": "stdout",
     "output_type": "stream",
     "text": [
      "+-----------------+\n",
      "|      avg(salary)|\n",
      "+-----------------+\n",
      "|308.3333333333333|\n",
      "+-----------------+\n",
      "\n"
     ]
    }
   ],
   "source": [
    "query_sql(\"select avg(salary) from {df_1}\")"
   ]
  },
  {
   "cell_type": "code",
   "execution_count": null,
   "id": "0295c833",
   "metadata": {},
   "outputs": [],
   "source": []
  },
  {
   "cell_type": "code",
   "execution_count": 154,
   "id": "d019433f",
   "metadata": {},
   "outputs": [
    {
     "name": "stdout",
     "output_type": "stream",
     "text": [
      "check query and again\n"
     ]
    }
   ],
   "source": [
    "query_sql(\"\")"
   ]
  },
  {
   "cell_type": "code",
   "execution_count": 155,
   "id": "9ea58eab",
   "metadata": {},
   "outputs": [
    {
     "name": "stdout",
     "output_type": "stream",
     "text": [
      "+-----+---+------+----------+\n",
      "| name|age|salary|life_stage|\n",
      "+-----+---+------+----------+\n",
      "|Karam| 23|   450|     young|\n",
      "| Omar| 31|   520|     adult|\n",
      "|  Ali| 22|   410|     young|\n",
      "+-----+---+------+----------+\n",
      "\n"
     ]
    }
   ],
   "source": [
    "query_sql(\"select * from {df_1} where salary>=350\")"
   ]
  },
  {
   "cell_type": "code",
   "execution_count": 156,
   "id": "e3f06dc1",
   "metadata": {},
   "outputs": [
    {
     "name": "stdout",
     "output_type": "stream",
     "text": [
      "+----------+------+\n",
      "|life_stage|salary|\n",
      "+----------+------+\n",
      "|     adult|   520|\n",
      "+----------+------+\n",
      "\n"
     ]
    }
   ],
   "source": [
    "query_sql(\"select life_stage,salary from {df_1} where age>25\")"
   ]
  },
  {
   "cell_type": "code",
   "execution_count": null,
   "id": "9f4061bc",
   "metadata": {},
   "outputs": [],
   "source": []
  }
 ],
 "metadata": {
  "kernelspec": {
   "display_name": "Python 3 (ipykernel)",
   "language": "python",
   "name": "python3"
  },
  "language_info": {
   "codemirror_mode": {
    "name": "ipython",
    "version": 3
   },
   "file_extension": ".py",
   "mimetype": "text/x-python",
   "name": "python",
   "nbconvert_exporter": "python",
   "pygments_lexer": "ipython3",
   "version": "3.9.13"
  }
 },
 "nbformat": 4,
 "nbformat_minor": 5
}
